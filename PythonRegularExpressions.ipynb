{
 "cells": [
  {
   "cell_type": "code",
   "execution_count": 1,
   "metadata": {},
   "outputs": [
    {
     "name": "stdout",
     "output_type": "stream",
     "text": [
      "['2', '5']\n"
     ]
    }
   ],
   "source": [
    "# import RE module\n",
    "import re\n",
    "\n",
    "target_str = \"My roll number is 25\"\n",
    "res = re.findall(r\"\\d\", target_str)\n",
    "# extract mathing value\n",
    "print(res) \n",
    "# Output [2, 5]"
   ]
  },
  {
   "cell_type": "code",
   "execution_count": 15,
   "metadata": {},
   "outputs": [
    {
     "name": "stdout",
     "output_type": "stream",
     "text": [
      "without raw string:\n",
      "c:\\example\\task\\new\n"
     ]
    }
   ],
   "source": [
    "import re\n",
    "\n",
    "print(\"without raw string:\")\n",
    "# path_to_search = \"c:\\example\\task\\new\"\n",
    "target_string = r\"c:\\example\\task\\new\\exercises\\session1\"\n",
    "\n",
    "# regex pattern\n",
    "pattern = r\"^c:\\\\example\\\\task\\\\new\"\n",
    "# \\n and \\t has a special meaning in Python\n",
    "# Python will treat them differently\n",
    "res = re.search(pattern, target_string)\n",
    "print(res.group())"
   ]
  },
  {
   "cell_type": "code",
   "execution_count": null,
   "metadata": {},
   "outputs": [
    {
     "name": "stdout",
     "output_type": "stream",
     "text": [
      "J\n",
      "8\n",
      "['8', '0', '0', '0']\n",
      "All tokens: ['Jessa', 'salary', 'is', '8000$']\n",
      "Jessa-salary-is-8000$\n"
     ]
    }
   ],
   "source": [
    "# import the RE module\n",
    "import re\n",
    "target_string = \"Jessa salary is 8000$\"\n",
    "# compile regex pattern\n",
    "# pattern to match any character\n",
    "str_pattern = r\"\\w\"\n",
    "pattern = re.compile(str_pattern)\n",
    "\n",
    "# match regex pattern at start of the string\n",
    "res = pattern.match(target_string)\n",
    "# match character\n",
    "print(res.group())  \n",
    "# Output 'J'\n",
    "\n",
    "# search regex pattern anywhere inside string\n",
    "# pattern to search any digit\n",
    "res = re.search(r\"\\d\", target_string)\n",
    "print(res.group())\n",
    "# Output 8\n",
    "\n",
    "# pattern to find all digits\n",
    "res = re.findall(r\"\\d\", target_string)\n",
    "print(res)  \n",
    "# Output ['8', '0', '0', '0']\n",
    "\n",
    "# regex to split string on whitespaces\n",
    "res = re.split(r\"\\s\", target_string)\n",
    "print(\"All tokens:\", res)\n",
    "# Output ['Jessa', 'salary', 'is', '8000$']\n",
    "\n",
    "# regex for replacement\n",
    "# replace space with hyphen\n",
    "res = re.sub(r\"\\s\", \"-\", target_string)\n",
    "# string after replacement:\n",
    "print(res)\n",
    "# Output Jessa-salary-is-8000$"
   ]
  },
  {
   "cell_type": "code",
   "execution_count": 17,
   "metadata": {},
   "outputs": [
    {
     "name": "stdout",
     "output_type": "stream",
     "text": [
      "<class 're.Pattern'>\n",
      "['251', '761', '231', '451']\n",
      "['111', '212', '415']\n"
     ]
    }
   ],
   "source": [
    "import re\n",
    "\n",
    "# Target String one\n",
    "str1 = \"Emma's luck numbers are 251 761 231 451\"\n",
    "\n",
    "# pattern to find three consecutive digits\n",
    "string_pattern = r\"\\d{3}\"\n",
    "# compile string pattern to re.Pattern object\n",
    "regex_pattern = re.compile(string_pattern)\n",
    "\n",
    "# print the type of compiled pattern\n",
    "print(type(regex_pattern))\n",
    "# Output <class 're.Pattern'>\n",
    "\n",
    "# find all the matches in string one\n",
    "result = regex_pattern.findall(str1)\n",
    "print(result)\n",
    "# Output ['251', '761', '231', '451']\n",
    "\n",
    "# Target String two\n",
    "str2 = \"Kelly's luck numbers are 111 212 415\"\n",
    "# find all the matches in second string by reusing the same pattern\n",
    "result = regex_pattern.findall(str2)\n",
    "print(result)\n",
    "# Output ['111', '212', '415']"
   ]
  },
  {
   "cell_type": "code",
   "execution_count": 18,
   "metadata": {},
   "outputs": [
    {
     "name": "stdout",
     "output_type": "stream",
     "text": [
      "Match object:  <re.Match object; span=(0, 4), match='Emma'>\n",
      "Match value:  Emma\n"
     ]
    }
   ],
   "source": [
    "import re\n",
    "\n",
    "target_string = \"Emma is a basketball player who was born on June 17\"\n",
    "result = re.match(r\"\\w{4}\", target_string) #\n",
    "\n",
    "# printing the Match object\n",
    "print(\"Match object: \", result)\n",
    "# Output re.Match object; span=(0, 4), match='Emma'\n",
    "\n",
    "# Extract match value\n",
    "print(\"Match value: \", result.group())\n",
    "# Output 'Emma'"
   ]
  },
  {
   "cell_type": "code",
   "execution_count": 19,
   "metadata": {},
   "outputs": [
    {
     "name": "stdout",
     "output_type": "stream",
     "text": [
      "None\n",
      "Python\n",
      "['Python', 'pandas']\n"
     ]
    }
   ],
   "source": [
    "import re\n",
    "\n",
    "target_string = \"Jessa loves Python and pandas\"\n",
    "# Match six-letter word\n",
    "pattern = r\"\\w{6}\"\n",
    "\n",
    "# match() method\n",
    "result = re.match(pattern, target_string)\n",
    "print(result)\n",
    "# Output None\n",
    "\n",
    "# search() method\n",
    "result = re.search(pattern, target_string)\n",
    "print(result.group()) \n",
    "# Output 'Python'\n",
    "\n",
    "# findall() method\n",
    "result = re.findall(pattern, target_string)\n",
    "print(result) \n",
    "# Output ['Python', 'pandas'] "
   ]
  },
  {
   "cell_type": "code",
   "execution_count": 20,
   "metadata": {},
   "outputs": [
    {
     "name": "stdout",
     "output_type": "stream",
     "text": [
      "Matching number:  1993\n"
     ]
    }
   ],
   "source": [
    "import re\n",
    "\n",
    "target_string = \"Emma is a basketball player who was born on June 17, 1993\"\n",
    "\n",
    "# match at the end\n",
    "result = re.search(r\"\\d{4}$\", target_string)\n",
    "print(\"Matching number: \", result.group())  \n",
    "# Output 1993"
   ]
  },
  {
   "cell_type": "code",
   "execution_count": 21,
   "metadata": {},
   "outputs": [
    {
     "name": "stdout",
     "output_type": "stream",
     "text": [
      "Matching string literal:  ['player']\n"
     ]
    }
   ],
   "source": [
    "import re\n",
    "\n",
    "target_string = \"Emma is a basketball player who was born on June 17\"\n",
    "result = re.findall(r\"player\", target_string)\n",
    "print(\"Matching string literal: \", result) \n",
    "# Output ['player']"
   ]
  },
  {
   "cell_type": "code",
   "execution_count": 22,
   "metadata": {},
   "outputs": [
    {
     "name": "stdout",
     "output_type": "stream",
     "text": [
      "<re.Match object; span=(0, 5), match='Jessa'>\n",
      "Jessa\n",
      "0\n",
      "End index:  5\n",
      "(0, 5)\n",
      "Jessa\n"
     ]
    }
   ],
   "source": [
    "import re\n",
    "\n",
    "target_string = \"Jessa and Kelly\"\n",
    "\n",
    "# Match five-letter word\n",
    "res = re.match(r\"\\b\\w{5}\\b\", target_string)\n",
    "\n",
    "# printing entire match object\n",
    "print(res)\n",
    "# Output re.Match object; span=(0, 5), match='Jessa'\n",
    "\n",
    "# Extract Matching value\n",
    "print(res.group())\n",
    "# Output Jessa\n",
    "\n",
    "# Start index of a match\n",
    "print(res.start())\n",
    "# Output  0\n",
    "\n",
    "# End index of a match\n",
    "print(\"End index: \", res.end())  # 5\n",
    "\n",
    "# Start and end index of a match\n",
    "pos = res.span()\n",
    "print(pos)\n",
    "# Output (0, 5)\n",
    "\n",
    "# Use span to retrieve the matching string\n",
    "print(target_string[pos[0]:pos[1]])\n",
    "# Output 'Jessa'"
   ]
  },
  {
   "cell_type": "code",
   "execution_count": 23,
   "metadata": {},
   "outputs": [
    {
     "name": "stdout",
     "output_type": "stream",
     "text": [
      "PYnative is for Python developers\n",
      "None\n"
     ]
    }
   ],
   "source": [
    "import re\n",
    "\n",
    "# string starts with letter 'p' ends with letter 's'\n",
    "def starts_ends_with(str1):\n",
    "    res = re.match(r'^(P).*(s)$', str1)\n",
    "    if res:\n",
    "        print(res.group())\n",
    "    else:\n",
    "        print('None')\n",
    "\n",
    "str1 = \"PYnative is for Python developers\"\n",
    "starts_ends_with(str1)\n",
    "# Output 'PYnative is for Python developers'\n",
    "\n",
    "str2 = \"PYnative is for Python\"\n",
    "starts_ends_with(str2)\n",
    "# Output None"
   ]
  },
  {
   "cell_type": "code",
   "execution_count": 24,
   "metadata": {},
   "outputs": [
    {
     "name": "stdout",
     "output_type": "stream",
     "text": [
      "<re.Match object; span=(0, 1), match='E'>\n",
      "['1', '2', '2', '5']\n",
      "['12', '25']\n",
      "[' ', '#', '!', '@', '#', '$', '%']\n"
     ]
    }
   ],
   "source": [
    "import re\n",
    "\n",
    "str1 = \"Emma 12 25\"\n",
    "# Match any character\n",
    "print(re.match(r'.', str1))\n",
    "# output 'E'\n",
    "\n",
    "# Match all digits\n",
    "print(re.findall(r'\\d', str1))\n",
    "# Output ['1', '2', '2', '5']\n",
    "\n",
    "# Match all numbers\n",
    "# + indicate 1 or more occurence of \\d\n",
    "print(re.findall(r'\\d+', str1))\n",
    "# output ['12', '25']\n",
    "\n",
    "# Match all special characters and symbols\n",
    "str2 = \"Hello #Jessa!@#$%\"\n",
    "print(re.findall(r'\\W', str2))\n",
    "# Output [' ', '#', '!', '@', '#', '$', '%']"
   ]
  },
  {
   "cell_type": "code",
   "execution_count": 25,
   "metadata": {},
   "outputs": [
    {
     "name": "stdout",
     "output_type": "stream",
     "text": [
      "None\n",
      "17\n"
     ]
    }
   ],
   "source": [
    "import re\n",
    "\n",
    "target_string = \"Emma is a baseball player who was born on June 17, 1993\"\n",
    "\n",
    "# Match 2-digit number\n",
    "# Using match()\n",
    "result = re.match(r'\\d{2}', target_string)\n",
    "print(result)\n",
    "# Output None\n",
    "\n",
    "# Using search()\n",
    "result = re.search(r'\\d{2}', target_string)\n",
    "print(result.group())\n",
    "# Output 17\n"
   ]
  },
  {
   "cell_type": "code",
   "execution_count": null,
   "metadata": {},
   "outputs": [
    {
     "name": "stdout",
     "output_type": "stream",
     "text": [
      "emma\n",
      "None\n",
      "love\n",
      "None\n",
      "Python\n"
     ]
    }
   ],
   "source": [
    "import re\n",
    "multi_line_string = \"\"\"emma \n",
    "love Python\"\"\"\n",
    "\n",
    "# Matches at the start\n",
    "print(re.match('emma', multi_line_string).group())\n",
    "# Output 'emma'\n",
    "\n",
    "# re.match doesn't match at the start of each newline\n",
    "# It only match at the start of the string\n",
    "# Won't match\n",
    "print(re.match('love', multi_line_string, re.MULTILINE))\n",
    "# Output None\n",
    "\n",
    "# found \"love\" at start of newline\n",
    "print(re.search('love', multi_line_string).group())\n",
    "# Output 'love'\n",
    "\n",
    "pattern = re.compile('Python$', re.MULTILINE)\n",
    "# No Match\n",
    "print(pattern.match(multi_line_string))\n",
    "# Output None\n",
    "\n",
    "# found 'Python\" at the end\n",
    "print(pattern.search(multi_line_string).group())\n",
    "# Output 'Python'"
   ]
  },
  {
   "cell_type": "code",
   "execution_count": 27,
   "metadata": {},
   "outputs": [
    {
     "name": "stdout",
     "output_type": "stream",
     "text": [
      "str1 length:  42\n",
      "<re.Match object; span=(0, 42), match='My name is maximums and my salary is 1000$'>\n",
      "Match:  My name is maximums and my salary is 1000$\n"
     ]
    }
   ],
   "source": [
    "import re\n",
    "\n",
    "# string length of 42\n",
    "str1 = \"My name is maximums and my salary is 1000$\"\n",
    "print(\"str1 length: \", len(str1))\n",
    "\n",
    "result = re.fullmatch(r\".{42}\", str1)\n",
    "\n",
    "# print entire match object\n",
    "print(result)\n",
    "\n",
    "# print actual match value\n",
    "print(\"Match: \", result.group())"
   ]
  },
  {
   "cell_type": "code",
   "execution_count": 28,
   "metadata": {},
   "outputs": [
    {
     "name": "stdout",
     "output_type": "stream",
     "text": [
      "Match Object <re.Match object; span=(10, 18), match='baseball'>\n",
      "Matching word:  baseball\n"
     ]
    }
   ],
   "source": [
    "import re\n",
    "\n",
    "# Target String\n",
    "target_string = \"Emma is a baseball player who was born on June 17\"\n",
    "\n",
    "# search() for eight-letter word\n",
    "result = re.search(r\"\\w{8}\", target_string)\n",
    "\n",
    "# Print match object\n",
    "print(\"Match Object\", result)\n",
    "# output re.Match object; span=(10, 18), match='baseball'\n",
    "\n",
    "# print the matching word using group() method\n",
    "print(\"Matching word: \", result.group()) \n",
    "# Output 'baseball'"
   ]
  },
  {
   "cell_type": "code",
   "execution_count": 29,
   "metadata": {},
   "outputs": [
    {
     "name": "stdout",
     "output_type": "stream",
     "text": [
      "ball\n",
      "player\n"
     ]
    }
   ],
   "source": [
    "import re\n",
    "\n",
    "# Target String\n",
    "target_string = \"Emma is a baseball player who was born on June 17, 1993.\"\n",
    "\n",
    "# find substring 'ball'\n",
    "result = re.search(r\"ball\", target_string)\n",
    "\n",
    "# Print matching substring\n",
    "print(result.group())\n",
    "# output 'ball'\n",
    "\n",
    "# find exact word/substring surrounded by word boundary\n",
    "result = re.search(r\"\\bball\\b\", target_string)\n",
    "if result:\n",
    "    print(result)\n",
    "# output None\n",
    "\n",
    "# find word 'player'\n",
    "result = re.search(r\"\\bplayer\\b\", target_string)\n",
    "print(result.group())\n",
    "# output 'player'"
   ]
  },
  {
   "cell_type": "code",
   "execution_count": 30,
   "metadata": {},
   "outputs": [
    {
     "name": "stdout",
     "output_type": "stream",
     "text": [
      "basketball\n",
      "17\n"
     ]
    }
   ],
   "source": [
    "import re\n",
    "\n",
    "target_string = \"Emma is a basketball player who was born on June 17.\"\n",
    "\n",
    "# two group enclosed in separate ( and ) bracket\n",
    "result = re.search(r\"(\\w{10}).+(\\d{2})\", target_string)\n",
    "\n",
    "# Extract the matches using group()\n",
    "\n",
    "# print ten-letter word\n",
    "print(result.group(1))\n",
    "# Output basketball\n",
    "\n",
    "# print two digit number\n",
    "print(result.group(2))\n",
    "# Output 17"
   ]
  },
  {
   "cell_type": "code",
   "execution_count": 31,
   "metadata": {},
   "outputs": [
    {
     "name": "stdout",
     "output_type": "stream",
     "text": [
      "['Emma', 'player', 'born']\n"
     ]
    }
   ],
   "source": [
    "import re\n",
    "\n",
    "str1 = \"Emma is a baseball player who was born on June 17, 1993.\"\n",
    "\n",
    "# search() for eight-letter word surrounded by space\n",
    "# \\b is used to specify word boundary\n",
    "result = re.findall(r\"\\bEmma\\b|\\bplayer\\b|\\bborn\\b\", str1)\n",
    "print(result)\n",
    "# Output ['Emma', 'player', 'born']"
   ]
  },
  {
   "cell_type": "code",
   "execution_count": 32,
   "metadata": {},
   "outputs": [
    {
     "name": "stdout",
     "output_type": "stream",
     "text": [
      "Matching word: None\n",
      "case insensitive searching\n",
      "Matching word: Emma\n"
     ]
    }
   ],
   "source": [
    "import re\n",
    "\n",
    "# Target String\n",
    "target_string = \"Emma is a Baseball player who was born on June 17, 1993.\"\n",
    "\n",
    "# case sensitive searching\n",
    "result = re.search(r\"emma\", target_string)\n",
    "print(\"Matching word:\", result)\n",
    "# Output None\n",
    "\n",
    "print(\"case insensitive searching\")\n",
    "# using re.IGNORECASE\n",
    "result = re.search(r\"emma\", target_string, re.IGNORECASE)\n",
    "print(\"Matching word:\", result.group())\n",
    "# Output 'Emma'"
   ]
  },
  {
   "cell_type": "code",
   "execution_count": 33,
   "metadata": {},
   "outputs": [
    {
     "name": "stdout",
     "output_type": "stream",
     "text": [
      "Found following matches\n",
      "['17', '1993', '112', '26', '12', '51']\n"
     ]
    }
   ],
   "source": [
    "import re\n",
    "\n",
    "target_string = \"Emma is a basketball player who was born on June 17, 1993. She played 112 matches with scoring average 26.12 points per game. Her weight is 51 kg.\"\n",
    "result = re.findall(r\"\\d+\", target_string)\n",
    "\n",
    "# print all matches\n",
    "print(\"Found following matches\")\n",
    "print(result)\n",
    "\n",
    "# Output ['17', '1993', '112', '26', '12', '51']"
   ]
  },
  {
   "cell_type": "code",
   "execution_count": null,
   "metadata": {},
   "outputs": [
    {
     "name": "stdout",
     "output_type": "stream",
     "text": [
      "<re.Match object; span=(49, 51), match='17'>\n",
      "17\n",
      "<re.Match object; span=(53, 55), match='19'>\n",
      "19\n",
      "<re.Match object; span=(55, 57), match='93'>\n",
      "93\n",
      "<re.Match object; span=(70, 72), match='11'>\n",
      "11\n",
      "<re.Match object; span=(108, 110), match='26'>\n",
      "26\n",
      "<re.Match object; span=(111, 113), match='12'>\n",
      "12\n",
      "<re.Match object; span=(145, 147), match='51'>\n",
      "51\n"
     ]
    }
   ],
   "source": [
    "import re\n",
    "\n",
    "target_string = \"Emma is a basketball player who was born on June 17, 1993. She played 112 matches with a scoring average of 26.12 points per game. Her weight is 51 kg.\"\n",
    "\n",
    "# finditer() with regex pattern and target string\n",
    "# \\d{2} to match two consecutive digits \n",
    "result = re.finditer(r\"\\d{2}\", target_string)\n",
    "\n",
    "# print all match object\n",
    "for match_obj in result:\n",
    "    # print each re.Match object\n",
    "    print(match_obj)\n",
    "    \n",
    "    # extract each matching number\n",
    "    print(match_obj.group())"
   ]
  },
  {
   "cell_type": "code",
   "execution_count": 2,
   "metadata": {},
   "outputs": [
    {
     "name": "stdout",
     "output_type": "stream",
     "text": [
      "['Python', 'Python', 'programming']\n",
      "['Python', 'Python']\n"
     ]
    }
   ],
   "source": [
    "import re\n",
    "\n",
    "target_string = \"Jessa is a Python developer. She also gives Python programming training\"\n",
    "# all word starts with letter 'p'\n",
    "print(re.findall(r'\\b[p]\\w+\\b', target_string, re.I))\n",
    "# output ['Python', 'Python', 'programming']\n",
    "\n",
    "# all word starts with substring 'Py'\n",
    "print(re.findall(r'\\bpy\\w+\\b', target_string, re.I))\n",
    "# output ['Python', 'Python']"
   ]
  },
  {
   "cell_type": "code",
   "execution_count": 3,
   "metadata": {},
   "outputs": [
    {
     "name": "stdout",
     "output_type": "stream",
     "text": [
      "['programming']\n",
      "['programming', 'training']\n",
      "['mango']\n",
      "['banana', 'and', 'apple']\n"
     ]
    }
   ],
   "source": [
    "import re\n",
    "\n",
    "target_string = \"Jessa is a Python developer. She also gives Python programming training\"\n",
    "# all word starts with letter 'p' and ends with letter 'g'\n",
    "print(re.findall(r'\\b[p]\\w+[g]\\b', target_string, re.I))\n",
    "# output 'programming'\n",
    "\n",
    "# all word starts with letter 'p' or 't' and ends with letter 'g'\n",
    "print(re.findall(r'\\b[pt]\\w+[g]\\b', target_string, re.I))\n",
    "# output ['programming', 'training']\n",
    "\n",
    "target_string = \"Jessa loves mango and orange\"\n",
    "# all word starts with substring 'ma' and ends with substring 'go'\n",
    "print(re.findall(r'\\bma\\w+go\\b', target_string, re.I))\n",
    "# output 'mango'\n",
    "\n",
    "target_string = \"Kelly loves banana and apple\"\n",
    "# all word starts or ends with letter 'a'\n",
    "print(re.findall(r'\\b[a]\\w+\\b|\\w+[a]\\b', target_string, re.I))\n",
    "# output ['banana', 'and', 'apple']"
   ]
  },
  {
   "cell_type": "code",
   "execution_count": 4,
   "metadata": {},
   "outputs": [
    {
     "name": "stdout",
     "output_type": "stream",
     "text": [
      "['is', 'testing', 'machine', 'learning']\n",
      "['testing', 'learning']\n"
     ]
    }
   ],
   "source": [
    "import re\n",
    "\n",
    "target_string = \"Jessa is a knows testing and machine learning\"\n",
    "# find all word that contain letter 'i'\n",
    "print(re.findall(r'\\b\\w*[i]\\w*\\b', target_string, re.I))\n",
    "# found ['is', 'testing', 'machine', 'learning']\n",
    "\n",
    "# find all word which contain substring 'ing'\n",
    "print(re.findall(r'\\b\\w*ing\\w*\\b', target_string, re.I))\n",
    "# found ['testing', 'learning']"
   ]
  },
  {
   "cell_type": "code",
   "execution_count": 5,
   "metadata": {},
   "outputs": [
    {
     "name": "stdout",
     "output_type": "stream",
     "text": [
      "J, e, ss, a, E, rr, ii, k, a, "
     ]
    }
   ],
   "source": [
    "import re\n",
    "\n",
    "target_string = \"Jessa Erriika\"\n",
    "# This '\\w' matches any single character\n",
    "# and then its repetitions (\\1*) if any.\n",
    "matcher = re.compile(r\"(\\w)\\1*\")\n",
    "\n",
    "for match in matcher.finditer(target_string):\n",
    "    print(match.group(), end=\", \")\n",
    "# output J, e, ss, a, E, rr, ii, k, a,"
   ]
  },
  {
   "cell_type": "code",
   "execution_count": 6,
   "metadata": {},
   "outputs": [
    {
     "name": "stdout",
     "output_type": "stream",
     "text": [
      "['My', 'name', 'is', 'maximums', 'and', 'my', 'luck', 'numbers', 'are', '12', '45', '78']\n"
     ]
    }
   ],
   "source": [
    "import re\n",
    "\n",
    "target_string = \"My name is maximums and my luck numbers are 12 45 78\"\n",
    "# split on white-space \n",
    "word_list = re.split(r\"\\s+\", target_string)\n",
    "print(word_list)\n",
    "\n",
    "# Output ['My', 'name', 'is', 'maximums', 'and', 'my', 'luck', 'numbers', 'are', '12', '45', '78']"
   ]
  },
  {
   "cell_type": "code",
   "execution_count": 7,
   "metadata": {},
   "outputs": [
    {
     "name": "stdout",
     "output_type": "stream",
     "text": [
      "['12', '45-78']\n",
      "['12', '45', '78']\n"
     ]
    }
   ],
   "source": [
    "import re\n",
    "\n",
    "target_string = \"12-45-78\"\n",
    "\n",
    "# Split only on the first occurrence\n",
    "# maxsplit is 1\n",
    "result = re.split(r\"\\D\", target_string, maxsplit=1)\n",
    "print(result)\n",
    "# Output ['12', '45-78']\n",
    "\n",
    "# Split on the three occurrence\n",
    "# maxsplit is 3\n",
    "result = re.split(r\"\\D\", target_string, maxsplit=3)\n",
    "print(result)\n",
    "# Output ['12', '45', '78']"
   ]
  },
  {
   "cell_type": "code",
   "execution_count": 8,
   "metadata": {},
   "outputs": [
    {
     "name": "stdout",
     "output_type": "stream",
     "text": [
      "['12', '45', '78', '85', '17', '89']\n"
     ]
    }
   ],
   "source": [
    "import re\n",
    "\n",
    "target_string = \"12,45,78,85-17-89\"\n",
    "# 2 delimiter - and ,\n",
    "# use OR (|) operator to combine two pattern\n",
    "result = re.split(r\"-|,\", target_string)\n",
    "print(result)\n",
    "# Output ['12', '45', '78', '85', '17', '89']"
   ]
  },
  {
   "cell_type": "code",
   "execution_count": 9,
   "metadata": {},
   "outputs": [
    {
     "name": "stdout",
     "output_type": "stream",
     "text": [
      "['PYnative', 'dot', 'com', 'is', 'for', 'Python', 'developer']\n"
     ]
    }
   ],
   "source": [
    "import re\n",
    "\n",
    "target_string = \"PYnative   dot.com; is for, Python-developer\"\n",
    "# Pattern to split: [-;,.\\s]\\s*\n",
    "result = re.split(r\"[-;,.\\s]\\s*\", target_string)\n",
    "print(result)\n",
    "# Output ['PYnative', 'dot', 'com', 'is', 'for', 'Python', 'developer']"
   ]
  },
  {
   "cell_type": "code",
   "execution_count": 10,
   "metadata": {},
   "outputs": [
    {
     "name": "stdout",
     "output_type": "stream",
     "text": [
      "['PYnative', 'dot', 'com', 'is', 'for', 'Python', 'developer', '']\n"
     ]
    }
   ],
   "source": [
    "import re\n",
    "\n",
    "target_string = \"PYnative! dot.com; is for, Python-developer?\"\n",
    "result = re.split(r\"[\\b\\W\\b]+\", target_string)\n",
    "print(result)\n",
    "# Output ['PYnative', 'dot', 'com', 'is', 'for', 'Python', 'developer', '']"
   ]
  },
  {
   "cell_type": "code",
   "execution_count": 11,
   "metadata": {},
   "outputs": [
    {
     "name": "stdout",
     "output_type": "stream",
     "text": [
      "['12', '', '45', '78', '85', '17', '89', '97']\n"
     ]
    }
   ],
   "source": [
    "import re\n",
    "\n",
    "text = \"12, and45,78and85-17and89-97\"\n",
    "# split by word 'and' space, and comma\n",
    "result = re.split(r\"and|[\\s,-]+\", text)\n",
    "print(result)\n",
    "# Output ['12', '', '45', '78', '85', '17', '89', '97']"
   ]
  },
  {
   "cell_type": "code",
   "execution_count": 12,
   "metadata": {},
   "outputs": [
    {
     "name": "stdout",
     "output_type": "stream",
     "text": [
      "['12', '45', '78', '']\n",
      "['12', '-', '45', '-', '78', '.', '']\n"
     ]
    }
   ],
   "source": [
    "import re\n",
    "\n",
    "target_string = \"12-45-78.\"\n",
    "\n",
    "# Split on non-digit\n",
    "result = re.split(r\"\\D+\", target_string)\n",
    "print(result)\n",
    "# Output ['12', '45', '78', '']\n",
    "\n",
    "# Split on non-digit and keep the separators\n",
    "# pattern written in parenthese\n",
    "result = re.split(r\"(\\D+)\", target_string)\n",
    "print(result)\n",
    "# Output ['12', '-', '45', '-', '78', '.', '']"
   ]
  },
  {
   "cell_type": "code",
   "execution_count": 13,
   "metadata": {},
   "outputs": [
    {
     "name": "stdout",
     "output_type": "stream",
     "text": [
      "['7J8', '7S', '3', '']\n",
      "['7', '8', '7', '3', '']\n",
      "['Emma knows Python.EMMA loves Data Science']\n",
      "['', ' knows Python.', ' loves Data Science']\n"
     ]
    }
   ],
   "source": [
    "import re\n",
    "\n",
    "# Without ignoring case\n",
    "print(re.split('[a-z]+', \"7J8e7Ss3a\"))\n",
    "# output ['7J8', '7S', '3', '']\n",
    "\n",
    "# With ignoring case\n",
    "print(re.split('[a-z]+', \"7J8e7Ss3a\", flags=re.IGNORECASE))\n",
    "# output ['7', '8', '7', '3', '']\n",
    "\n",
    "# Without ignoring case\n",
    "print(re.split(r\"emma\", \"Emma knows Python.EMMA loves Data Science\"))\n",
    "# output ['Emma knows Python.EMMA loves Data Science']\n",
    "\n",
    "# With ignoring case\n",
    "print(re.split(r\"emma\", \"Emma knows Python.EMMA loves Data Science\", flags=re.IGNORECASE))\n",
    "# output ['', ' knows Python.', ' loves Data Science']"
   ]
  },
  {
   "cell_type": "code",
   "execution_count": 14,
   "metadata": {},
   "outputs": [
    {
     "name": "stdout",
     "output_type": "stream",
     "text": [
      "['EMMA loves', 'PYTHON and', 'ML']\n"
     ]
    }
   ],
   "source": [
    "import re\n",
    "\n",
    "print(re.split(r\"\\s(?=[A-Z])\", \"EMMA loves PYTHON and ML\"))\n",
    "# output ['EMMA loves', 'PYTHON and', 'ML']"
   ]
  },
  {
   "cell_type": "code",
   "execution_count": 15,
   "metadata": {},
   "outputs": [
    {
     "name": "stdout",
     "output_type": "stream",
     "text": [
      "Jessa_knows_testing_and_machine_learning\n"
     ]
    }
   ],
   "source": [
    "import re\n",
    "\n",
    "target_str = \"Jessa knows testing and machine learning\"\n",
    "res_str = re.sub(r\"\\s\", \"_\", target_str)\n",
    "# String after replacement\n",
    "print(res_str)\n",
    "# Output 'Jessa_knows_testing_and_machine_learning'"
   ]
  },
  {
   "cell_type": "code",
   "execution_count": 16,
   "metadata": {},
   "outputs": [
    {
     "name": "stdout",
     "output_type": "stream",
     "text": [
      "JessaKnowsTestingAndMachineLearning.\n"
     ]
    }
   ],
   "source": [
    "import re\n",
    "\n",
    "target_str = \"   Jessa Knows Testing And Machine Learning \\t  .\"\n",
    "\n",
    "# \\s+ to remove all spaces\n",
    "# + indicate 1 or more occurrence of a space\n",
    "res_str = re.sub(r\"\\s+\", \"\", target_str)\n",
    "# String after replacement\n",
    "print(res_str)\n",
    "# Output 'JessaKnowsTestingAndMachineLearning.'"
   ]
  },
  {
   "cell_type": "code",
   "execution_count": 17,
   "metadata": {},
   "outputs": [
    {
     "name": "stdout",
     "output_type": "stream",
     "text": [
      "Jessa Knows Testing And Machine Learning \t  .\n"
     ]
    }
   ],
   "source": [
    "import re\n",
    "\n",
    "target_str = \"   Jessa Knows Testing And Machine Learning \\t  .\"\n",
    "\n",
    "# ^\\s+ remove only leading spaces\n",
    "# caret (^) matches only at the start of the string\n",
    "res_str = re.sub(r\"^\\s+\", \"\", target_str)\n",
    "\n",
    "# String after replacement\n",
    "print(res_str)\n",
    "# Output 'Jessa Knows Testing And Machine Learning \t  .'"
   ]
  },
  {
   "cell_type": "code",
   "execution_count": 18,
   "metadata": {},
   "outputs": [
    {
     "name": "stdout",
     "output_type": "stream",
     "text": [
      "   Jessa Knows Testing And Machine Learning\n"
     ]
    }
   ],
   "source": [
    "import re\n",
    "\n",
    "target_str = \"   Jessa Knows Testing And Machine Learning   \\t\\n\"\n",
    "# ^\\s+$ remove only trailing spaces\n",
    "# dollar ($) matches spaces only at the end of the string\n",
    "res_str = re.sub(r\"\\s+$\", \"\", target_str)\n",
    "\n",
    "# String after replacement\n",
    "print(res_str)\n",
    "# Output '   Jessa Knows Testing And Machine Learning'"
   ]
  },
  {
   "cell_type": "code",
   "execution_count": 19,
   "metadata": {},
   "outputs": [
    {
     "name": "stdout",
     "output_type": "stream",
     "text": [
      "Jessa Knows Testing And Machine Learning\n"
     ]
    }
   ],
   "source": [
    "import re\n",
    "\n",
    "target_str = \"   Jessa Knows Testing And Machine Learning   \\t\\n\"\n",
    "# ^\\s+ remove leading spaces\n",
    "# ^\\s+$ removes trailing spaces\n",
    "# | operator to combine both patterns\n",
    "res_str = re.sub(r\"^\\s+|\\s+$\", \"\", target_str)\n",
    "\n",
    "# String after replacement\n",
    "print(res_str)\n",
    "# Output 'Jessa Knows Testing And Machine Learning'"
   ]
  },
  {
   "cell_type": "code",
   "execution_count": 20,
   "metadata": {},
   "outputs": [
    {
     "name": "stdout",
     "output_type": "stream",
     "text": [
      "Jessa Knows Testing And Machine Learning \n"
     ]
    }
   ],
   "source": [
    "import re\n",
    "\n",
    "target_str = \"Jessa Knows Testing    And Machine     Learning \\t \\n\"\n",
    "\n",
    "# \\s+ to match all whitespaces\n",
    "# replace them using single space \" \"\n",
    "res_str = re.sub(r\"\\s+\", \" \", target_str)\n",
    "\n",
    "# string after replacement\n",
    "print(res_str)\n",
    "# Output 'Jessa Knows Testing And Machine Learning'"
   ]
  },
  {
   "cell_type": "code",
   "execution_count": 21,
   "metadata": {},
   "outputs": [
    {
     "name": "stdout",
     "output_type": "stream",
     "text": [
      "Jessa-knows testing and machine learning\n",
      "Jessa-knows-testing-and machine learning\n"
     ]
    }
   ],
   "source": [
    "import re\n",
    "\n",
    "# original string\n",
    "target_str = \"Jessa knows testing and machine learning\"\n",
    "# replace only first occurrence\n",
    "res_str = re.sub(r\"\\s\", \"-\", target_str, count=1)\n",
    "# String after replacement\n",
    "print(res_str)\n",
    "# Output 'Jessa-knows testing and machine learning'\n",
    "\n",
    "# replace three occurrence\n",
    "res_str = re.sub(r\"\\s\", \"-\", target_str, count=3)\n",
    "print(res_str)\n",
    "# Output 'Jessa-knows-testing-and machine learning'"
   ]
  },
  {
   "cell_type": "code",
   "execution_count": 22,
   "metadata": {},
   "outputs": [
    {
     "name": "stdout",
     "output_type": "stream",
     "text": [
      "emma loves pineapple dessert and coconut ice cream\n"
     ]
    }
   ],
   "source": [
    "import re\n",
    "\n",
    "# replacement function to convert uppercase letter to lowercase\n",
    "def convert_to_lower(match_obj):\n",
    "    if match_obj.group() is not None:\n",
    "        return match_obj.group().lower()\n",
    "\n",
    "# Original String\n",
    "str = \"Emma LOves PINEAPPLE DEssert and COCONUT Ice Cream\"\n",
    "\n",
    "# pass replacement function to re.sub()\n",
    "res_str = re.sub(r\"[A-Z]\", convert_to_lower, str)\n",
    "# String after replacement\n",
    "print(res_str)\n",
    "# Output 'Emma loves pineapple dessert and coconut Ice Cream'"
   ]
  },
  {
   "cell_type": "code",
   "execution_count": 23,
   "metadata": {},
   "outputs": [
    {
     "name": "stdout",
     "output_type": "stream",
     "text": [
      "Emma,Kelly,Jessa,Joy,Scott,Joe,Jerry\n"
     ]
    }
   ],
   "source": [
    "import re\n",
    "\n",
    "# Original string\n",
    "student_names = \"Emma-Kelly Jessa Joy Scott-Joe Jerry\"\n",
    "\n",
    "# replace two pattern at the same time\n",
    "# use OR (|) to separate two pattern\n",
    "res = re.sub(r\"(\\s)|(-)\", \",\", student_names)\n",
    "print(res)\n",
    "# Output 'Emma,Kelly,Jessa,Joy,Scott,Joe,Jerry'"
   ]
  },
  {
   "cell_type": "code",
   "execution_count": 24,
   "metadata": {},
   "outputs": [
    {
     "name": "stdout",
     "output_type": "stream",
     "text": [
      "emma LOVES pineapple DESSERT AND coconut ICE cream\n"
     ]
    }
   ],
   "source": [
    "import re\n",
    "\n",
    "# replacement function to convert uppercase word to lowercase\n",
    "# and lowercase word to uppercase\n",
    "def convert_case(match_obj):\n",
    "    if match_obj.group(1) is not None:\n",
    "        return match_obj.group(1).lower()\n",
    "    if match_obj.group(2) is not None:\n",
    "        return match_obj.group(2).upper()\n",
    "\n",
    "# Original String\n",
    "str = \"EMMA loves PINEAPPLE dessert and COCONUT ice CREAM\"\n",
    "\n",
    "# group 1 [A-Z]+ matches uppercase words\n",
    "# group 2 [a-z]+ matches lowercase words\n",
    "# pass replacement function 'convert_case' to re.sub()\n",
    "res_str = re.sub(r\"([A-Z]+)|([a-z]+)\", convert_case, str)\n",
    "\n",
    "# String after replacement\n",
    "print(res_str)\n",
    "# Output 'emma LOVES pineapple DESSERT AND coconut ICE cream'"
   ]
  },
  {
   "cell_type": "code",
   "execution_count": 25,
   "metadata": {},
   "outputs": [
    {
     "name": "stdout",
     "output_type": "stream",
     "text": [
      "('Emma loves MANGO, MANGO, MANGO ice cream', 3)\n"
     ]
    }
   ],
   "source": [
    "import re\n",
    "\n",
    "target_string = \"Emma loves PINEAPPLE, COCONUT, BANANA ice cream\"\n",
    "result = re.subn(r\"[A-Z]{2,}\", \"MANGO\", target_string)\n",
    "print(result)\n",
    "# Output ('Emma loves MANGO, MANGO, MANGO ice cream', 3)"
   ]
  },
  {
   "cell_type": "code",
   "execution_count": 26,
   "metadata": {},
   "outputs": [
    {
     "name": "stdout",
     "output_type": "stream",
     "text": [
      "('Emma loves MANGO, MANGO, BANANA ice cream', 2)\n"
     ]
    }
   ],
   "source": [
    "import re\n",
    "\n",
    "target_string = \"Emma loves PINEAPPLE, COCONUT, BANANA ice cream\"\n",
    "result = re.subn(r\"[A-Z]{2,}\", \"MANGO\", target_string, count=2)\n",
    "print(result)\n",
    "# Output ('Emma loves MANGO, MANGO, BANANA ice cream', 2)"
   ]
  },
  {
   "cell_type": "code",
   "execution_count": 27,
   "metadata": {},
   "outputs": [
    {
     "name": "stdout",
     "output_type": "stream",
     "text": [
      "('PINEAPPLE', '20')\n",
      "PINEAPPLE\n",
      "20\n"
     ]
    }
   ],
   "source": [
    "import re\n",
    "\n",
    "target_string = \"The price of PINEAPPLE ice cream is 20\"\n",
    "\n",
    "# two groups enclosed in separate ( and ) bracket\n",
    "result = re.search(r\"(\\b[A-Z]+\\b).+(\\b\\d+)\", target_string)\n",
    "\n",
    "# Extract matching values of all groups\n",
    "print(result.groups())\n",
    "# Output ('PINEAPPLE', '20')\n",
    "\n",
    "# Extract match value of group 1\n",
    "print(result.group(1))\n",
    "# Output 'PINEAPPLE'\n",
    "\n",
    "# Extract match value of group 2\n",
    "print(result.group(2))\n",
    "# Output 20"
   ]
  },
  {
   "cell_type": "code",
   "execution_count": 29,
   "metadata": {},
   "outputs": [
    {
     "name": "stdout",
     "output_type": "stream",
     "text": [
      "PINEAPPLE\n",
      "20\n",
      "PINEAPPLE ice cream is 20\n"
     ]
    }
   ],
   "source": [
    "# Extract first group\n",
    "print(result.group(1))\n",
    "\n",
    "# Extract second group\n",
    "print(result.group(2))\n",
    "\n",
    "# Target string\n",
    "print(result.group(0))"
   ]
  },
  {
   "cell_type": "code",
   "execution_count": 30,
   "metadata": {},
   "outputs": [
    {
     "name": "stdout",
     "output_type": "stream",
     "text": [
      "PINEAPPLE\n",
      "20\n",
      "MANGO\n",
      "30\n",
      "CHOCOLATE\n",
      "40\n"
     ]
    }
   ],
   "source": [
    "import re\n",
    "\n",
    "target_string = \"The price of ice-creams PINEAPPLE 20 MANGO 30 CHOCOLATE 40\"\n",
    "\n",
    "# two groups enclosed in separate ( and ) bracket\n",
    "# group 1: find all uppercase letter\n",
    "# group 2: find all numbers\n",
    "# you can compile a pattern or directly pass to the finditer() method\n",
    "pattern = re.compile(r\"(\\b[A-Z]+\\b).(\\b\\d+\\b)\")\n",
    "\n",
    "# find all matches to groups\n",
    "for match in pattern.finditer(target_string):\n",
    "    # extract words\n",
    "    print(match.group(1))\n",
    "    # extract numbers\n",
    "    print(match.group(2))"
   ]
  },
  {
   "cell_type": "code",
   "execution_count": 31,
   "metadata": {},
   "outputs": [
    {
     "name": "stdout",
     "output_type": "stream",
     "text": [
      "('PINEAPPLE', '20')\n"
     ]
    }
   ],
   "source": [
    "import re\n",
    "\n",
    "target_string = \"The price of PINEAPPLE ice cream is 20\"\n",
    "# two pattern enclosed in separate ( and ) bracket\n",
    "result = re.search(r\".+(\\b[A-Z]+\\b).+(\\b\\d+)\", target_string)\n",
    "\n",
    "print(result.group(1, 2))\n",
    "# Output ('PINEAPPLE', '20')"
   ]
  },
  {
   "cell_type": "code",
   "execution_count": 32,
   "metadata": {},
   "outputs": [
    {
     "name": "stdout",
     "output_type": "stream",
     "text": [
      "E\n",
      "Emma loves \n"
     ]
    }
   ],
   "source": [
    "import re\n",
    "\n",
    "target_string = \"Emma loves \\n Python\"\n",
    "# dot(.) metacharacter to match any character\n",
    "result = re.search(r'.', target_string)\n",
    "print(result.group())\n",
    "# Output 'E'\n",
    "\n",
    "# .+ to match any string except newline\n",
    "result = re.search(r'.+', target_string)\n",
    "print(result.group())\n",
    "# Output 'Emma loves '"
   ]
  },
  {
   "cell_type": "code",
   "execution_count": 33,
   "metadata": {},
   "outputs": [
    {
     "name": "stdout",
     "output_type": "stream",
     "text": [
      "Emma is a Python developer \n",
      " She also knows ML and AI\n"
     ]
    }
   ],
   "source": [
    "import re\n",
    "\n",
    "str1 = \"Emma is a Python developer \\n She also knows ML and AI\"\n",
    "\n",
    "# dot(.) characters to match newline\n",
    "result = re.search(r\".+\", str1, re.S)\n",
    "print(result.group())"
   ]
  },
  {
   "cell_type": "code",
   "execution_count": 34,
   "metadata": {},
   "outputs": [
    {
     "name": "stdout",
     "output_type": "stream",
     "text": [
      "Emma\n"
     ]
    }
   ],
   "source": [
    "import re\n",
    "\n",
    "target_string = \"Emma is a Python developer \\n Emma also knows ML and AI\"\n",
    "\n",
    "# caret (^) matches at the beginning of a string\n",
    "result = re.search(r\"^\\w{4}\", target_string)\n",
    "print(result.group())\n",
    "# Output 'Emma'\n"
   ]
  },
  {
   "cell_type": "code",
   "execution_count": 35,
   "metadata": {},
   "outputs": [
    {
     "name": "stdout",
     "output_type": "stream",
     "text": [
      "['Emma', 'Emma']\n"
     ]
    }
   ],
   "source": [
    "import re\n",
    "\n",
    "str1 = \"Emma is a Python developer and her salary is 5000$ \\nEmma also knows ML and AI\"\n",
    "\n",
    "# caret (^) matches at the beginning of each new line\n",
    "# Using re.M flag\n",
    "result = re.findall(r\"^\\w{4}\", str1, re.M)\n",
    "print(result)\n",
    "# Output ['Emma', 'Emma']\n"
   ]
  },
  {
   "cell_type": "code",
   "execution_count": 36,
   "metadata": {},
   "outputs": [
    {
     "name": "stdout",
     "output_type": "stream",
     "text": [
      "AI\n"
     ]
    }
   ],
   "source": [
    "import re\n",
    "\n",
    "str1 = \"Emma is a Python developer \\nEmma also knows ML and AI\"\n",
    "# dollar sign($) to match at the end of the string\n",
    "result = re.search(r\"\\w{2}$\", str1)\n",
    "print(result.group())\n",
    "# Output 'AI'"
   ]
  },
  {
   "cell_type": "code",
   "execution_count": 37,
   "metadata": {},
   "outputs": [
    {
     "name": "stdout",
     "output_type": "stream",
     "text": [
      "['8', '23', '886', '4567', '78453']\n"
     ]
    }
   ],
   "source": [
    "import re\n",
    "\n",
    "str1 = \"Numbers are 8,23, 886, 4567, 78453\"\n",
    "# asterisk sign(*) to match 0 or more repetitions\n",
    "\n",
    "result = re.findall(r\"\\d\\d*\", str1)\n",
    "print(result)\n",
    "# Output ['8', '23', '886', '4567', '78453']"
   ]
  },
  {
   "cell_type": "code",
   "execution_count": 38,
   "metadata": {},
   "outputs": [
    {
     "name": "stdout",
     "output_type": "stream",
     "text": [
      "['23', '886', '4567', '78453']\n"
     ]
    }
   ],
   "source": [
    "import re\n",
    "\n",
    "str1 = \"Numbers are 8,23, 886, 4567, 78453\"\n",
    "# Plus sign(+) to match 1 or more repetitions\n",
    "result = re.findall(r\"\\d\\d+\", str1)\n",
    "print(result)\n",
    "# Output ['23', '886', '4567', '78453']\n"
   ]
  },
  {
   "cell_type": "code",
   "execution_count": 39,
   "metadata": {},
   "outputs": [
    {
     "name": "stdout",
     "output_type": "stream",
     "text": [
      "['4567', '78453']\n"
     ]
    }
   ],
   "source": [
    "import re\n",
    "\n",
    "target_string = \"Numbers are 8,23, 886, 4567, 78453\"\n",
    "# Question mark sign(?) to match 0 or 1 repetitions\n",
    "result = re.findall(r\"\\d\\d\\d\\d\\d?\", target_string)\n",
    "print(result)\n",
    "# Output ['4567', '78453']"
   ]
  },
  {
   "cell_type": "code",
   "execution_count": 40,
   "metadata": {},
   "outputs": [
    {
     "name": "stdout",
     "output_type": "stream",
     "text": [
      "['.', '.', '.']\n"
     ]
    }
   ],
   "source": [
    "import re\n",
    "\n",
    "str1 = \"Emma is a Python developer. Emma salary is 5000$. Emma also knows ML and AI.\"\n",
    "# escape dot\n",
    "res = re.findall(r\"\\.\", str1)\n",
    "print(res)\n",
    "# Output ['.', '.', '.']"
   ]
  },
  {
   "cell_type": "code",
   "execution_count": 41,
   "metadata": {},
   "outputs": [
    {
     "name": "stdout",
     "output_type": "stream",
     "text": [
      "['d', 'e', 'e', 'e', 'k', 'd']\n"
     ]
    }
   ],
   "source": [
    "import re\n",
    "\n",
    "str1 = \"Emma is a Python developer. Emma also knows ML and AI.\"\n",
    "res = re.findall(r\"[edk]\", str1)\n",
    "print(res)\n",
    "# Output 'd', 'e', 'e', 'e', 'k', 'd']\n"
   ]
  },
  {
   "cell_type": "code",
   "execution_count": 42,
   "metadata": {},
   "outputs": [
    {
     "name": "stdout",
     "output_type": "stream",
     "text": [
      "Matching value ['Jessa']\n",
      "Matching value ['8000']\n"
     ]
    }
   ],
   "source": [
    "import re\n",
    "\n",
    "target_str = \"Jessa is a Python developer, and her salary is 8000\"\n",
    "\n",
    "# \\A to match at the start of a string\n",
    "# match word starts with capital letter\n",
    "result = re.findall(r\"\\A([A-Z].*?)\\s\", target_str)\n",
    "print(\"Matching value\", result)\n",
    "# Output ['Jessa']\n",
    "\n",
    "# \\Z to match at the end of a string\n",
    "# match number at the end of the string\n",
    "result = re.findall(r\"\\d.*?\\Z\", target_str)\n",
    "print(\"Matching value\", result)\n",
    "# Output ['8000']"
   ]
  },
  {
   "cell_type": "code",
   "execution_count": 43,
   "metadata": {},
   "outputs": [
    {
     "name": "stdout",
     "output_type": "stream",
     "text": [
      "['8', '0', '0', '0']\n",
      "['8000']\n",
      "[' ', 'd', 'o', 'l', 'l', 'a', 'r']\n"
     ]
    }
   ],
   "source": [
    "import re\n",
    "\n",
    "target_str = \"8000 dollar\"\n",
    "\n",
    "# \\d to match all digits\n",
    "result = re.findall(r\"\\d\", target_str)\n",
    "print(result)\n",
    "# Output ['8', '0', '0', '0']\n",
    "\n",
    "# \\d to match all numbers\n",
    "result = re.findall(r\"\\d+\", target_str)\n",
    "print(result)\n",
    "# Output ['8000']\n",
    "\n",
    "# \\D to match non-digits\n",
    "result = re.findall(r\"\\D\", target_str)\n",
    "print(result)\n",
    "# Output [' ', 'd', 'o', 'l', 'l', 'a', 'r']"
   ]
  },
  {
   "cell_type": "code",
   "execution_count": 44,
   "metadata": {},
   "outputs": [
    {
     "name": "stdout",
     "output_type": "stream",
     "text": [
      "['J', 'e', 's', 's', 'a', 'a', 'n', 'd', 'K', 'e', 'l', 'l', 'y']\n",
      "['Jessa', 'Kelly']\n",
      "[' ', ' ', '!', '!']\n"
     ]
    }
   ],
   "source": [
    "import re\n",
    "\n",
    "target_str = \"Jessa and Kelly!!\"\n",
    "\n",
    "# \\w to match all alphanumeric characters\n",
    "result = re.findall(r\"\\w\", target_str)\n",
    "print(result)\n",
    "# Output ['J', 'e', 's', 's', 'a', 'a', 'n', 'd', 'K', 'e', 'l', 'l', 'y']\n",
    "\n",
    "# \\w{5} to 5-letter word\n",
    "result = re.findall(r\"\\w{5}\", target_str)\n",
    "print(result)\n",
    "# Output ['Jessa', 'Kelly']\n",
    "\n",
    "# \\W to match NON-alphanumeric\n",
    "result = re.findall(r\"\\W\", target_str)\n",
    "print(result)\n",
    "# Output [' ', ' ', '!', '!']"
   ]
  },
  {
   "cell_type": "code",
   "execution_count": null,
   "metadata": {},
   "outputs": [
    {
     "name": "stdout",
     "output_type": "stream",
     "text": [
      "[' ', '\\t', ' ', '\\n', ' ', ' ']\n",
      "['J', 'e', 's', 's', 'a']\n",
      "['Jessa', 'and', 'Kelly']\n",
      "Jessa and Kelly \n"
     ]
    }
   ],
   "source": [
    "import re\n",
    "target_str = \"Jessa \\t \\n  \"\n",
    "# \\s to match any whitespace\n",
    "result = re.findall(r\"\\s\", target_str)\n",
    "print(result)\n",
    "# Output [' ', ' ', '\\t', ' ', '\\n', ' ', ' ']\n",
    "\n",
    "# \\S to match non-whitespace\n",
    "result = re.findall(r\"\\S\", target_str)\n",
    "print(result)\n",
    "# Output ['J', 'e', 's', 's', 'a']\n",
    "\n",
    "# split on white-spaces\n",
    "result = re.split(r\"\\s+\", \"Jessa and Kelly\")\n",
    "print(result)\n",
    "# Output ['Jessa', 'and', 'Kelly']\n",
    "\n",
    "# remove all multiple white-spaces with single space\n",
    "result = re.sub(r\"\\s+\", \" \", \"Jessa   and   \\t \\t Kelly  \")\n",
    "print(result)\n",
    "# Output 'Jessa and Kelly '"
   ]
  },
  {
   "cell_type": "code",
   "execution_count": 46,
   "metadata": {},
   "outputs": [
    {
     "name": "stdout",
     "output_type": "stream",
     "text": [
      "['salary', 'Python']\n",
      "[]\n"
     ]
    }
   ],
   "source": [
    "import re\n",
    "\n",
    "target_str = \"  Jessa salary is 8000$ She is Python developer\"\n",
    "\n",
    "# \\b to word boundary\n",
    "# \\w{6} to match six-letter word\n",
    "result = re.findall(r\"\\b\\w{6}\\b\", target_str)\n",
    "print(result)\n",
    "# Output ['salary', 'Python']\n",
    "\n",
    "# \\b need separate word not part of a word\n",
    "result = re.findall(r\"\\bthon\\b\", target_str)\n",
    "print(result)\n",
    "# Output []"
   ]
  },
  {
   "cell_type": "code",
   "execution_count": 47,
   "metadata": {},
   "outputs": [
    {
     "name": "stdout",
     "output_type": "stream",
     "text": [
      "['thon']\n"
     ]
    }
   ],
   "source": [
    "import re\n",
    "\n",
    "target_str = \"Jessa salary is 8000$ She is Python developer\"\n",
    "\n",
    "# \\B\n",
    "result = re.findall(r\"\\Bthon\", target_str)\n",
    "print(result)\n",
    "# Output ['thon']"
   ]
  },
  {
   "cell_type": "code",
   "execution_count": 49,
   "metadata": {},
   "outputs": [
    {
     "name": "stdout",
     "output_type": "stream",
     "text": [
      "[]\n"
     ]
    }
   ],
   "source": [
    "result = re.findall(r\"thon\\B\", target_str)\n",
    "print(result)"
   ]
  },
  {
   "cell_type": "code",
   "execution_count": 50,
   "metadata": {},
   "outputs": [
    {
     "name": "stdout",
     "output_type": "stream",
     "text": [
      "['J', 'e', 'e', 'd', 'e']\n",
      "['8', '0', '0', '0']\n",
      "['th']\n"
     ]
    }
   ],
   "source": [
    "import re\n",
    "\n",
    "target_string = \"Jessa loves Python. and her salary is 8000$\"\n",
    "\n",
    "# simple character Class [jds]\n",
    "# Match the letter J or d or e\n",
    "result = re.findall(r\"[Jde]\", target_string)\n",
    "print(result)\n",
    "# Output ['J', 'e', 'e', 'd', 'e']\n",
    "\n",
    "# simple character Class [0-9]\n",
    "# Match any digit\n",
    "result = re.findall(r\"[0-9]\", target_string)\n",
    "print(result)\n",
    "# Output ['8', '0', '0', '0']\n",
    "\n",
    "# character Class [abc][pq]\n",
    "# Match Match p or y or t followed by either h or s.\n",
    "result = re.findall(r\"[Pyt][hs]\", target_string)\n",
    "print(result)\n",
    "# Output ['th']"
   ]
  },
  {
   "cell_type": "code",
   "execution_count": 51,
   "metadata": {},
   "outputs": [
    {
     "name": "stdout",
     "output_type": "stream",
     "text": [
      "['d', 'e', '2', '5']\n",
      "['a', 'b', 'c', 'd', 'e']\n"
     ]
    }
   ],
   "source": [
    "import re\n",
    "\n",
    "target_string = \"abcde25\"\n",
    "\n",
    "result = re.findall(r\"[^abc]\", target_string)\n",
    "print(result)\n",
    "# Output ['d', 'e', '2', '5']\n",
    "\n",
    "# match any character except digits\n",
    "result = re.findall(r\"[^0-9]\", target_string)\n",
    "print(result)\n",
    "# Output ['a', 'b', 'c', 'd', 'e']"
   ]
  },
  {
   "cell_type": "code",
   "execution_count": 52,
   "metadata": {},
   "outputs": [
    {
     "name": "stdout",
     "output_type": "stream",
     "text": [
      "['e', 'f', 'g']\n",
      "['A', 'B', 'C', 'D']\n",
      "['A', 'B', 'C', 'D', 'e', 'f', 'g']\n",
      "['2']\n",
      "['A', 'B', 'C', '2']\n"
     ]
    }
   ],
   "source": [
    "import re\n",
    "\n",
    "target_string = \"ABCDefg29\"\n",
    "\n",
    "print(re.findall(r\"[a-z]\", target_string))\n",
    "# Output ['e', 'f', 'g']\n",
    "\n",
    "print(re.findall(r\"[A-Z]\", target_string))\n",
    "# Output ['A', 'B', 'C', 'D']\n",
    "\n",
    "print(re.findall(r\"[a-zA-Z]\", target_string))\n",
    "# Output ['A', 'B', 'C', 'D', 'e', 'f', 'g']\n",
    "\n",
    "print(re.findall(r\"[2-6]\", target_string))\n",
    "# Output ['2']\n",
    "\n",
    "print(re.findall(r\"[A-C2-8]\", target_string))\n",
    "# Output ['A', 'B', 'C', '2']"
   ]
  },
  {
   "cell_type": "code",
   "execution_count": 53,
   "metadata": {},
   "outputs": [
    {
     "name": "stdout",
     "output_type": "stream",
     "text": [
      "['kelly']\n",
      "['KELLy', 'kelly']\n",
      "['KELLy', 'kelly']\n"
     ]
    }
   ],
   "source": [
    "import re\n",
    "\n",
    "target_str = \"KELLy is a Python developer at a PYnative. kelly loves ML and AI\"\n",
    "\n",
    "# Without using re.I\n",
    "result = re.findall(r\"kelly\", target_str)\n",
    "print(result)\n",
    "# Output ['kelly']\n",
    "\n",
    "# with re.I\n",
    "result = re.findall(r\"kelly\", target_str, re.I)\n",
    "print(result)\n",
    "# Output ['KELLy', 'kelly']\n",
    "\n",
    "# with re.IGNORECASE\n",
    "result = re.findall(r\"kelly\", target_str, re.IGNORECASE)\n",
    "print(result)\n",
    "# Output ['KELLy', 'kelly']"
   ]
  },
  {
   "cell_type": "code",
   "execution_count": 55,
   "metadata": {},
   "outputs": [
    {
     "name": "stdout",
     "output_type": "stream",
     "text": [
      "Without using re.S flag: ML\n",
      "With re.S flag: ML\n",
      "and AI\n",
      "With re.DOTALL flag: ML\n",
      "and AI\n"
     ]
    }
   ],
   "source": [
    "import re\n",
    "\n",
    "# string with newline character\n",
    "target_str = \"ML\\nand AI\"\n",
    "\n",
    "# Match any character\n",
    "result = re.search(r\".+\", target_str)\n",
    "print(\"Without using re.S flag:\", result.group())\n",
    "# Output 'ML'\n",
    "\n",
    "# With re.S flag\n",
    "result = re.search(r\".+\", target_str, re.S)\n",
    "print(\"With re.S flag:\", result.group())\n",
    "# Output 'ML\\nand AI'\n",
    "\n",
    "# With re.DOTALL flag\n",
    "result = re.search(r\".+\", target_str, re.DOTALL)\n",
    "print(\"With re.DOTALL flag:\", result.group())\n",
    "# Output 'ML\\nand AI'"
   ]
  },
  {
   "cell_type": "code",
   "execution_count": 56,
   "metadata": {},
   "outputs": [
    {
     "name": "stdout",
     "output_type": "stream",
     "text": [
      "Jessa\n",
      "8000\n"
     ]
    }
   ],
   "source": [
    "import re\n",
    "\n",
    "target_str = \"Jessa is a Python developer, and her salary is 8000\"\n",
    "\n",
    "# re.X to add indentation  and comment in regex\n",
    "result = re.search(r\"\"\"(^\\w{2,}) # match 5-letter word at the start\n",
    "                        .+(\\d{4}$) # match 4-digit number at the end \"\"\", target_str, re.X)\n",
    "# Fiver-letter word\n",
    "print(result.group(1))\n",
    "# Output 'Jessa'\n",
    "\n",
    "# 4-digit number\n",
    "print(result.group(2))\n",
    "# Output 8000"
   ]
  },
  {
   "cell_type": "code",
   "execution_count": null,
   "metadata": {},
   "outputs": [
    {
     "name": "stdout",
     "output_type": "stream",
     "text": [
      "['Joy']\n",
      "['25']\n",
      "['Joy', 'Tom']\n",
      "['75', '25']\n"
     ]
    }
   ],
   "source": [
    "import re\n",
    "target_str = \"Joy lucky number is 75\\nTom lucky number is 25\"\n",
    "# find 3-letter word at the start of each newline\n",
    "# Without re.M or re.MULTILINE flag\n",
    "result = re.findall(r\"^\\w{3}\", target_str)\n",
    "print(result)  \n",
    "# Output ['Joy']\n",
    "\n",
    "# find 2-digit at the end of each newline\n",
    "# Without re.M or re.MULTILINE flag\n",
    "result = re.findall(r\"\\d{2}$\", target_str)\n",
    "print(result)\n",
    "# Output ['25']\n",
    "\n",
    "# With re.M or re.MULTILINE\n",
    "# find 3-letter word at the start of each newline\n",
    "result = re.findall(r\"^\\w{3}\", target_str, re.MULTILINE)\n",
    "print(result)\n",
    "# Output ['Joy', 'Tom']\n",
    "\n",
    "# With re.M\n",
    "# find 2-digit number at the end of each newline\n",
    "result = re.findall(r\"\\d{2}$\", target_str, re.M)\n",
    "print(result)\n",
    "# Output ['75', '25']"
   ]
  },
  {
   "cell_type": "code",
   "execution_count": 58,
   "metadata": {},
   "outputs": [
    {
     "name": "stdout",
     "output_type": "stream",
     "text": [
      "['虎太郎', 'and', 'are']\n",
      "['and', 'are']\n"
     ]
    }
   ],
   "source": [
    "import re\n",
    "\n",
    "# string with ASCII and Unicode characters\n",
    "target_str = \"虎太郎 and Jessa are friends\"\n",
    "\n",
    "# Without re.A or re.ASCII\n",
    "# To match all 3-letter word\n",
    "result = re.findall(r\"\\b\\w{3}\\b\", target_str)\n",
    "print(result)\n",
    "# Output ['虎太郎', 'and', 'are']\n",
    "\n",
    "# With re.A or re.ASCII\n",
    "# regex to match only 3-letter ASCII word\n",
    "result = re.findall(r\"\\b\\w{3}\\b\", target_str, re.A)\n",
    "print(result)\n",
    "# Output ['and', 'are']"
   ]
  },
  {
   "cell_type": "code",
   "execution_count": 59,
   "metadata": {},
   "outputs": [
    {
     "name": "stdout",
     "output_type": "stream",
     "text": [
      "1809\n",
      "(41, 45)\n",
      "41\n",
      "45\n"
     ]
    }
   ],
   "source": [
    "import re\n",
    "\n",
    "target_string = \"Abraham Lincoln was born on February 12, 1809,\"\n",
    "# \\d to match digits\n",
    "res = re.search(r'\\d{4}', target_string)\n",
    "# match value\n",
    "print(res.group()) \n",
    "# Output 1809\n",
    "\n",
    "# start and end position\n",
    "print(res.span())\n",
    "# Output (41, 45)\n",
    "\n",
    "# start position\n",
    "print(res.start())\n",
    "# Output 41\n",
    "\n",
    "# end position\n",
    "print(res.end())\n",
    "# Output 45"
   ]
  },
  {
   "cell_type": "code",
   "execution_count": 60,
   "metadata": {},
   "outputs": [
    {
     "name": "stdout",
     "output_type": "stream",
     "text": [
      "1809\n",
      "1809\n"
     ]
    }
   ],
   "source": [
    "import re\n",
    "\n",
    "target_string = \"Abraham Lincoln was born on February 12, 1809,\"\n",
    "res = re.search(r'\\d{4}', target_string)\n",
    "print(res.group())\n",
    "# Output 1809\n",
    "\n",
    "# save start and end positions\n",
    "start = res.start()\n",
    "end = res.end()\n",
    "print(target_string[start:end])\n",
    "# Output 1809"
   ]
  },
  {
   "cell_type": "code",
   "execution_count": 61,
   "metadata": {},
   "outputs": [
    {
     "name": "stdout",
     "output_type": "stream",
     "text": [
      "match 1 Jessa start index 0 End index 5\n",
      "match 2 Kelly start index 20 End index 25\n",
      "match 3 marks start index 36 End index 41\n"
     ]
    }
   ],
   "source": [
    "import re\n",
    "\n",
    "target_string = \"Jessa scored 56 and Kelly scored 65 marks\"\n",
    "count = 0\n",
    "# \\w matches any alphanumeric character\n",
    "# \\b indicate word boundary\n",
    "# {5} indicate five-letter word\n",
    "for match in re.finditer(r'\\b\\w{5}\\b', target_string):\n",
    "    count += 1\n",
    "    print(\"match\", count, match.group(), \"start index\", match.start(), \"End index\", match.end())"
   ]
  },
  {
   "cell_type": "code",
   "execution_count": 62,
   "metadata": {},
   "outputs": [
    {
     "name": "stdout",
     "output_type": "stream",
     "text": [
      "1 st match start index 0 End index 4\n",
      "2 st match start index 19 End index 23\n"
     ]
    }
   ],
   "source": [
    "import re\n",
    "\n",
    "target_string = \"Emma knows Python. Emma knows ML and AI\"\n",
    "# find all occurrences of  word emma\n",
    "# index of each occurrences\n",
    "cnt = 0\n",
    "for match in re.finditer(r'emma', target_string, re.IGNORECASE):\n",
    "    cnt += 1\n",
    "    print(cnt, \"st match start index\", match.start(), \"End index\", match.end())"
   ]
  },
  {
   "cell_type": "code",
   "execution_count": 63,
   "metadata": {},
   "outputs": [
    {
     "name": "stdout",
     "output_type": "stream",
     "text": [
      "Match:  None\n",
      "Match value:  basketball\n",
      "Match starts at 10\n"
     ]
    }
   ],
   "source": [
    "import re\n",
    "\n",
    "target_string = \"Emma is a basketball player who was born on June 17, 1993\"\n",
    "# match method with pattern and target string using match()\n",
    "result = re.match(r\"\\w{10}\", target_string)\n",
    "# printing  match\n",
    "print(\"Match: \", result) # None\n",
    "\n",
    "# using search()\n",
    "result = re.search(r\"\\w{10}\", target_string)\n",
    "# printing match\n",
    "print(\"Match value: \", result.group()) # basketball\n",
    "print(\"Match starts at\", result.start()) # index 10"
   ]
  }
 ],
 "metadata": {
  "kernelspec": {
   "display_name": "Python 3",
   "language": "python",
   "name": "python3"
  },
  "language_info": {
   "codemirror_mode": {
    "name": "ipython",
    "version": 3
   },
   "file_extension": ".py",
   "mimetype": "text/x-python",
   "name": "python",
   "nbconvert_exporter": "python",
   "pygments_lexer": "ipython3",
   "version": "3.12.8"
  }
 },
 "nbformat": 4,
 "nbformat_minor": 2
}
